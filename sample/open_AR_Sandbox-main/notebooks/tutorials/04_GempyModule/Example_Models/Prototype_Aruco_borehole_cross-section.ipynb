{
 "cells": [
  {
   "cell_type": "markdown",
   "id": "b58b5d3e",
   "metadata": {},
   "source": [
    "# Use Arucos to create boreholes and cross-sections "
   ]
  },
  {
   "cell_type": "code",
   "execution_count": null,
   "id": "aa3a619b",
   "metadata": {},
   "outputs": [],
   "source": [
    "import os\n",
    "#Run this cell only if you want to run gempy in cuda mode (requires cuda and a dedicated cpu).\n",
    "#Initial compilation will take a bit longer but the model will run much faster \n",
    "os.environ[\"THEANO_FLAGS\"] = \"mode=FAST_RUN,device=cuda\""
   ]
  },
  {
   "cell_type": "code",
   "execution_count": null,
   "id": "0b5a8dfe",
   "metadata": {},
   "outputs": [],
   "source": [
    "#import gempy\n",
    "import gempy as gp"
   ]
  },
  {
   "cell_type": "markdown",
   "id": "f82078cb",
   "metadata": {},
   "source": [
    "## Initialize Sensor and Projector"
   ]
  },
  {
   "cell_type": "code",
   "execution_count": null,
   "id": "cde18c70",
   "metadata": {},
   "outputs": [],
   "source": [
    "#save the paths to the calibration files \n",
    "from sandbox import _calibration_dir\n",
    "_calibprojector = _calibration_dir + \"my_projector_calibration.json\"\n",
    "_calibsensor = _calibration_dir + \"my_sensor_calibration.json\""
   ]
  },
  {
   "cell_type": "code",
   "execution_count": null,
   "id": "499de59d",
   "metadata": {},
   "outputs": [],
   "source": [
    "#Import Sensor\n",
    "from sandbox.sensor import Sensor\n",
    "sensor = Sensor(calibsensor=_calibsensor, name=\"kinect_v2\")"
   ]
  },
  {
   "cell_type": "code",
   "execution_count": null,
   "id": "0cc7063d",
   "metadata": {},
   "outputs": [],
   "source": [
    "# Import projector\n",
    "from sandbox.projector import Projector\n",
    "projector = Projector(calibprojector=_calibprojector)\n"
   ]
  },
  {
   "cell_type": "markdown",
   "id": "fad4bade",
   "metadata": {},
   "source": [
    "## Initialize marker detection"
   ]
  },
  {
   "cell_type": "code",
   "execution_count": null,
   "id": "5aa050b1",
   "metadata": {},
   "outputs": [],
   "source": [
    "#Initialize the aruco detection\n",
    "from sandbox.markers import MarkerDetection\n",
    "aruco = MarkerDetection(sensor=sensor)"
   ]
  },
  {
   "cell_type": "markdown",
   "id": "b951dcfa",
   "metadata": {},
   "source": [
    "## Initialize main thread for live update"
   ]
  },
  {
   "cell_type": "code",
   "execution_count": null,
   "id": "631a2b28",
   "metadata": {},
   "outputs": [],
   "source": [
    "from sandbox.main_thread import MainThread\n",
    "main = MainThread(sensor=sensor, projector=projector, aruco=aruco)"
   ]
  },
  {
   "cell_type": "code",
   "execution_count": null,
   "id": "f14f36c7",
   "metadata": {},
   "outputs": [],
   "source": [
    "# Start the thread \n",
    "main.run()"
   ]
  },
  {
   "cell_type": "code",
   "execution_count": null,
   "id": "a1bdac37",
   "metadata": {},
   "outputs": [],
   "source": [
    "main.widget_plot_module()"
   ]
  },
  {
   "cell_type": "markdown",
   "id": "b05df29d",
   "metadata": {},
   "source": [
    "## Initialize the gempy module "
   ]
  },
  {
   "cell_type": "code",
   "execution_count": null,
   "id": "03d00370",
   "metadata": {},
   "outputs": [],
   "source": [
    "main.stop()\n",
    "from sandbox.modules.gempy import GemPyModule\n",
    "gpsb= GemPyModule(geo_model = None, \n",
    "                  extent = sensor.extent, \n",
    "                  box=sensor.physical_dimensions, \n",
    "                  load_examples = True,\n",
    "                  name_example = ['Horizontal_layers'])\n"
   ]
  },
  {
   "cell_type": "markdown",
   "id": "4a5d4630",
   "metadata": {},
   "source": [
    "## Add the module to the main thread"
   ]
  },
  {
   "cell_type": "code",
   "execution_count": null,
   "id": "6489dea1",
   "metadata": {},
   "outputs": [],
   "source": [
    "main.add_module(name='gempy', module=gpsb)\n",
    "main.run()"
   ]
  },
  {
   "cell_type": "code",
   "execution_count": null,
   "id": "1c93ec4c",
   "metadata": {},
   "outputs": [],
   "source": [
    "#Turn on Hill Shading\n",
    "gpsb.show_hillshades = True\n",
    "gpsb.show_lith = True\n",
    "gpsb.show_boundary = True\n",
    "gpsb.show_contour = False\n",
    "gpsb.show_only_faults = False\n",
    "gpsb.show_fill_contour = False\n"
   ]
  },
  {
   "cell_type": "markdown",
   "id": "26e64a74",
   "metadata": {},
   "source": [
    "## Add cross section"
   ]
  },
  {
   "cell_type": "code",
   "execution_count": null,
   "id": "41012710",
   "metadata": {},
   "outputs": [],
   "source": [
    "# Set section dictionary\n",
    "gpsb.set_section_dict((10,10), (800,800), \"Section1\") "
   ]
  },
  {
   "cell_type": "code",
   "execution_count": null,
   "id": "4383a663",
   "metadata": {},
   "outputs": [],
   "source": [
    "# show section traces\n",
    "gpsb.show_section_traces() "
   ]
  },
  {
   "cell_type": "code",
   "execution_count": null,
   "id": "82908732",
   "metadata": {},
   "outputs": [],
   "source": [
    "# Possible cross sections to show\n",
    "gpsb.model_sections_dict.keys()"
   ]
  },
  {
   "cell_type": "code",
   "execution_count": null,
   "id": "0edc3ff6",
   "metadata": {},
   "outputs": [],
   "source": [
    "# If no filling run again\n",
    "_ = gpsb.show_cross_section(\"Section1\")"
   ]
  },
  {
   "cell_type": "markdown",
   "id": "0e9ed46d",
   "metadata": {},
   "source": [
    "## Cross section with aruco markers"
   ]
  },
  {
   "cell_type": "markdown",
   "id": "30f7d511",
   "metadata": {},
   "source": [
    "There can only be 2 aruco markers displayed in the model"
   ]
  },
  {
   "cell_type": "code",
   "execution_count": null,
   "id": "135a29fe",
   "metadata": {
    "scrolled": true
   },
   "outputs": [],
   "source": [
    "if len(gpsb.modelspace_arucos) == 2 and 'Aruco_section' in gpsb.model_sections_dict.keys():\n",
    "    _ = gpsb.show_cross_section(\"Aruco_section\")\n",
    "else:\n",
    "    print('Only 2 aruco markers can be present to work')"
   ]
  },
  {
   "cell_type": "markdown",
   "id": "53b35b93",
   "metadata": {},
   "source": [
    "## Show boreholes\n",
    "This still gives some trouble when faults are in the model"
   ]
  },
  {
   "cell_type": "code",
   "execution_count": null,
   "id": "47950ecf",
   "metadata": {
    "scrolled": true
   },
   "outputs": [],
   "source": [
    "# Place synthetic boreholes\n",
    "main.stop()\n",
    "gpsb.set_borehole_dict((10, 20), \"borehole1\")\n",
    "gpsb.set_borehole_dict((200, 500), \"borehole2\")\n",
    "gpsb.set_borehole_dict((500, 500), \"borehole3\")\n",
    "gpsb.set_borehole_dict((900, 500), \"borehole4\")\n",
    "gpsb.set_borehole_dict((100, 100), \"borehole5\")\n",
    "gpsb.set_borehole_dict((600, 700), \"borehole6\")\n",
    "gpsb.set_borehole_dict((200, 150), \"borehole7\")\n",
    "gpsb.set_borehole_dict((150, 200), \"borehole8\")\n",
    "gpsb._get_polygon_data()\n",
    "if len(gpsb.borehole_tube) > 0:\n",
    "    p = gpsb.plot_boreholes(notebook=False, background=False)\n",
    "    p.show()\n",
    "main.run()"
   ]
  },
  {
   "cell_type": "markdown",
   "id": "893e6cfe",
   "metadata": {},
   "source": [
    "## Show boreholes with arucos"
   ]
  },
  {
   "cell_type": "code",
   "execution_count": null,
   "id": "d9c22a4b",
   "metadata": {
    "scrolled": true
   },
   "outputs": [],
   "source": [
    "#Place as many aruco markers as you want in the model\n",
    "lis = list(gpsb.borehole_dict.keys())\n",
    "for name in lis:\n",
    "    if 'aruco' not in name:\n",
    "        gpsb.remove_borehole_dict(name)\n",
    "main.stop()\n",
    "gpsb._get_polygon_data()\n",
    "if len(gpsb.borehole_tube) > 0:\n",
    "    p = gpsb.plot_boreholes(notebook=False, background=False)\n",
    "    p.show()\n",
    "else:\n",
    "    print('No aruco boreholes to show. Make sure the arucos are detected')\n",
    "\n",
    "main.run()"
   ]
  },
  {
   "cell_type": "markdown",
   "id": "70359d46",
   "metadata": {},
   "source": [
    "# Other additional nice features"
   ]
  },
  {
   "cell_type": "code",
   "execution_count": null,
   "id": "d8b7c2a5",
   "metadata": {},
   "outputs": [],
   "source": [
    "# Pyvista 3d model\n",
    "main.stop()\n",
    "gpsb.plot_3d_model()\n",
    "main.run()"
   ]
  }
 ],
 "metadata": {
  "kernelspec": {
   "display_name": "Python 3 (ipykernel)",
   "language": "python",
   "name": "python3"
  },
  "language_info": {
   "codemirror_mode": {
    "name": "ipython",
    "version": 3
   },
   "file_extension": ".py",
   "mimetype": "text/x-python",
   "name": "python",
   "nbconvert_exporter": "python",
   "pygments_lexer": "ipython3",
   "version": "3.7.12"
  }
 },
 "nbformat": 4,
 "nbformat_minor": 5
}