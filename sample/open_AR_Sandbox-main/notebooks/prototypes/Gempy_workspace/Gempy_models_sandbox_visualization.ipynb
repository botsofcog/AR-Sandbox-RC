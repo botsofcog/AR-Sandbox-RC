{
 "cells": [
  {
   "cell_type": "code",
   "execution_count": null,
   "metadata": {},
   "outputs": [],
   "source": [
    "import os,sys\n",
    "sys.path.append('../..')\n",
    "sys.path.append('../../../gempy/')\n",
    "import gempy as gp\n",
    "import time\n",
    "\n",
    "#os.environ[\"THEANO_FLAGS\"] = \"mode=FAST_RUN,device=cuda\"\n",
    "os.environ[\"THEANO_FLAGS\"] = \"mode=FAST_RUN\"\n",
    "import sandbox.sandbox as sb\n",
    "\n",
    "\n",
    "#import gempy_sandbox a   s gpsb\n",
    "import numpy as np\n",
    "#from PIL import Image, ImageDraw\n",
    "import pickle"
   ]
  },
  {
   "cell_type": "code",
   "execution_count": null,
   "metadata": {},
   "outputs": [],
   "source": [
    "calibrationdata = sb.CalibrationData(file='my_calibration.json')\n",
    "sensor = sb.KinectV2(calibrationdata)\n",
    "projector = sb.Projector(calibrationdata)"
   ]
  },
  {
   "cell_type": "code",
   "execution_count": null,
   "metadata": {},
   "outputs": [],
   "source": [
    "tempfile = 'temp.pickle.pickle'\n",
    "last_time_modified = os.path.getmtime(tempfile)\n",
    "geo_model=gp.load_model_pickle(tempfile)"
   ]
  },
  {
   "cell_type": "code",
   "execution_count": null,
   "metadata": {},
   "outputs": [],
   "source": [
    "def update_model(tempfile):\n",
    "    print('updating model')\n",
    "    gpsb.stop()\n",
    "    geo_model = gp.load_model_pickle(tempfile)\n",
    "    gpsb.geo_model = geo_model\n",
    "    gpsb.setup()\n",
    "    gpsb.run()\n",
    "    "
   ]
  },
  {
   "cell_type": "code",
   "execution_count": null,
   "metadata": {},
   "outputs": [],
   "source": [
    "gpsb=sb.GemPyModule(geo_model, calibrationdata, sensor, projector)"
   ]
  },
  {
   "cell_type": "code",
   "execution_count": null,
   "metadata": {},
   "outputs": [],
   "source": [
    "gpsb.setup()"
   ]
  },
  {
   "cell_type": "code",
   "execution_count": null,
   "metadata": {},
   "outputs": [],
   "source": [
    "gpsb.run()\n"
   ]
  },
  {
   "cell_type": "code",
   "execution_count": null,
   "metadata": {},
   "outputs": [],
   "source": [
    "update_model(tempfile)"
   ]
  },
  {
   "cell_type": "code",
   "execution_count": null,
   "metadata": {},
   "outputs": [],
   "source": [
    "gpsb.stop()"
   ]
  },
  {
   "cell_type": "code",
   "execution_count": null,
   "metadata": {},
   "outputs": [],
   "source": [
    "gpsb."
   ]
  }
 ],
 "metadata": {
  "kernelspec": {
   "display_name": "Python 3",
   "language": "python",
   "name": "python3"
  },
  "language_info": {
   "codemirror_mode": {
    "name": "ipython",
    "version": 3
   },
   "file_extension": ".py",
   "mimetype": "text/x-python",
   "name": "python",
   "nbconvert_exporter": "python",
   "pygments_lexer": "ipython3",
   "version": "3.7.5"
  }
 },
 "nbformat": 4,
 "nbformat_minor": 4
}
