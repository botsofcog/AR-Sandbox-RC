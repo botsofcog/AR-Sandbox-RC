{
 "cells": [
  {
   "cell_type": "code",
   "execution_count": null,
   "metadata": {},
   "outputs": [],
   "source": [
    "import freenect2\n",
    "from freenect2 import Device, FrameType\n",
    "import numpy as np\n",
    "import matplotlib.pyplot as plt\n",
    "%matplotlib qt5\n",
    "from sandbox.sensor.kinectV2 import KinectV2\n"
   ]
  },
  {
   "cell_type": "code",
   "execution_count": null,
   "metadata": {},
   "outputs": [],
   "source": [
    "%%timeit\n",
    "device = Device()\n",
    "frames = {}\n",
    "with device.running():\n",
    "    for type_, frame in device:\n",
    "        frames[type_] = frame\n",
    "        if FrameType.Color in frames and FrameType.Depth in frames:\n",
    "            break\n",
    "\n",
    "# Use the factory calibration to undistort the depth frame and register the RGB\n",
    "# frame onto it.\n",
    "rgb, depth = frames[FrameType.Color], frames[FrameType.Depth]\n",
    "#undistorted, registered, big_depth = device.registration.apply(\n",
    "#    rgb, depth, with_big_depth=True)\n",
    "\n",
    "# Combine the depth and RGB data together into a single point cloud.\n",
    "#with open('output.pcd', 'wb') as fobj:\n",
    "#    device.registration.write_pcd(fobj, undistorted, registered)\n",
    "\n",
    "#with open('output_big.pcd', 'wb') as fobj:\n",
    "#   device.registration.write_big_pcd(fobj, big_depth, rgb)"
   ]
  },
  {
   "cell_type": "code",
   "execution_count": null,
   "metadata": {},
   "outputs": [],
   "source": [
    "device = Device()"
   ]
  },
  {
   "cell_type": "code",
   "execution_count": null,
   "metadata": {},
   "outputs": [],
   "source": [
    "device.running()"
   ]
  },
  {
   "cell_type": "code",
   "execution_count": null,
   "metadata": {},
   "outputs": [],
   "source": [
    "global _FREENECT2_SINGLETON "
   ]
  },
  {
   "cell_type": "code",
   "execution_count": null,
   "metadata": {},
   "outputs": [],
   "source": [
    "_FREENECT2_SINGLETON = None"
   ]
  },
  {
   "cell_type": "code",
   "execution_count": null,
   "metadata": {},
   "outputs": [],
   "source": [
    "num_devices = freenect2.lib.freenect2_enumerate_devices(freenect2._get_freenect2())\n",
    "assert num_devices > 0\n",
    "    \n",
    "\n"
   ]
  },
  {
   "cell_type": "code",
   "execution_count": null,
   "metadata": {},
   "outputs": [],
   "source": [
    "device.start()"
   ]
  },
  {
   "cell_type": "code",
   "execution_count": null,
   "metadata": {},
   "outputs": [],
   "source": [
    "import freenect2\n",
    "from freenect2 import Device, FrameType\n",
    "import numpy as np\n",
    "import matplotlib.pyplot as plt\n",
    "%matplotlib qt5\n",
    "from sandbox.sensor.kinectV2 import KinectV2\n",
    "\n",
    "device = Device()\n",
    "frames = {}\n"
   ]
  },
  {
   "cell_type": "code",
   "execution_count": null,
   "metadata": {},
   "outputs": [],
   "source": [
    "_count = 0\n",
    "im=None\n",
    "fig, ax = plt.subplots()\n",
    "with device.running():\n",
    "    \n",
    "    for type_, frame in device:\n",
    "        _count += 1\n",
    "        frames[type_] = frame\n",
    "        if FrameType.Color in frames and FrameType.Depth in frames:\n",
    "            rgb, depth = frames[FrameType.Color], frames[FrameType.Depth]\n",
    "            #if im is None:\n",
    "            #    im = ax.imshow(depth.to_array())\n",
    "            #else:\n",
    "            #    im.set_data(depth.to_array())\n",
    "            #    ax.draw()\n",
    "            #print(depth.to_array())\n",
    "            #ax.imshow(depth.to_array())\n",
    "            #fig.draw()\n",
    "        if _count==200:\n",
    "            break\n",
    "        "
   ]
  },
  {
   "cell_type": "code",
   "execution_count": null,
   "metadata": {},
   "outputs": [],
   "source": [
    "im.set_data(depth.to_array())"
   ]
  },
  {
   "cell_type": "code",
   "execution_count": null,
   "metadata": {},
   "outputs": [],
   "source": []
  },
  {
   "cell_type": "code",
   "execution_count": null,
   "metadata": {},
   "outputs": [],
   "source": [
    "frames = {}\n",
    "with device.running():\n",
    "    for type_, frame in device:\n",
    "        frames[type_] = frame\n",
    "        if FrameType.Color in frames and FrameType.Depth in frames and FrameType.Ir in frames:\n",
    "            break"
   ]
  },
  {
   "cell_type": "code",
   "execution_count": null,
   "metadata": {},
   "outputs": [],
   "source": [
    "ir = frames[FrameType.Ir].to_array()\n",
    "color = frames[FrameType.Color].to_array()\n",
    "depth = frames[FrameType.Depth].to_array()"
   ]
  },
  {
   "cell_type": "code",
   "execution_count": null,
   "metadata": {},
   "outputs": [],
   "source": [
    "plt.imshow(ir)\n",
    "plt.show()\n",
    "plt.imshow(depth)\n",
    "plt.show()\n",
    "plt.imshow(color)\n",
    "plt.show()\n"
   ]
  },
  {
   "cell_type": "code",
   "execution_count": null,
   "metadata": {},
   "outputs": [],
   "source": [
    "kinect = KinectV2()\n"
   ]
  },
  {
   "cell_type": "code",
   "execution_count": null,
   "metadata": {},
   "outputs": [],
   "source": [
    "kinect.get_frame()"
   ]
  },
  {
   "cell_type": "code",
   "execution_count": null,
   "metadata": {},
   "outputs": [],
   "source": [
    "\n",
    "frames = kinect.listener.waitForNewFrame(milliseconds=1000)\n",
    "depth = frames['depth'].asarray()\n",
    "listener.release(frames)\n",
    "plt.imshow(depth)\n",
    "plt.show()"
   ]
  },
  {
   "cell_type": "code",
   "execution_count": null,
   "metadata": {},
   "outputs": [],
   "source": []
  },
  {
   "cell_type": "code",
   "execution_count": null,
   "metadata": {},
   "outputs": [],
   "source": [
    "color = kinect.get_color()\n",
    "print(color.shape)\n",
    "print(color[0])\n",
    "plt.imshow(color, origin=\"lower left\")\n",
    "plt.show()"
   ]
  },
  {
   "cell_type": "code",
   "execution_count": null,
   "metadata": {},
   "outputs": [],
   "source": [
    "color = kinect.get_color()\n",
    "print(color.shape)\n",
    "print(color[0])\n",
    "plt.imshow(color, origin=\"lower left\")\n",
    "plt.show()"
   ]
  },
  {
   "cell_type": "code",
   "execution_count": null,
   "metadata": {},
   "outputs": [],
   "source": [
    "kinect.listener.hasNewFrame()"
   ]
  },
  {
   "cell_type": "code",
   "execution_count": null,
   "metadata": {},
   "outputs": [],
   "source": [
    "kinect.listener.waitForNewFrame"
   ]
  },
  {
   "cell_type": "code",
   "execution_count": null,
   "metadata": {},
   "outputs": [],
   "source": [
    "frames = kinect.listener.waitForNewFrame(milliseconds=50)\n",
    "if frames:\n",
    "    print(True)\n",
    "    kinect.listener.release(frames)\n",
    "else:\n",
    "    print(False)\n"
   ]
  },
  {
   "cell_type": "code",
   "execution_count": null,
   "metadata": {},
   "outputs": [],
   "source": [
    "kinect.listener.hasNewFrame()"
   ]
  },
  {
   "cell_type": "code",
   "execution_count": null,
   "metadata": {},
   "outputs": [],
   "source": [
    "kinect.listener.waitForNewFrame()"
   ]
  },
  {
   "cell_type": "code",
   "execution_count": null,
   "metadata": {},
   "outputs": [],
   "source": [
    "\n",
    "\n",
    "\n",
    "\n",
    "\n",
    "\n",
    "\n",
    "\n",
    "from pylibfreenect2 import Freenect2, SyncMultiFrameListener\n",
    "from pylibfreenect2 import FrameType, Registration, Frame, FrameMap\n",
    "\n",
    "\n",
    "import numpy as np\n",
    "import matplotlib.pyplot as plt\n",
    "\n"
   ]
  },
  {
   "cell_type": "code",
   "execution_count": null,
   "metadata": {},
   "outputs": [],
   "source": [
    "fn = Freenect2()\n",
    "\n",
    "num_devices = fn.enumerateDevices()\n",
    "assert num_devices > 0\n",
    "\n",
    "serial = fn.getDefaultDeviceSerialNumber()\n",
    "\n",
    "device = fn.openDevice(serial)\n",
    "\n",
    "\n",
    "listener = SyncMultiFrameListener(\n",
    "    FrameType.Color | FrameType.Ir | FrameType.Depth)\n",
    "\n",
    "# Register listeners\n",
    "device.setColorFrameListener(listener)\n",
    "device.setIrAndDepthFrameListener(listener)\n",
    "\n",
    "device.startStreams(rgb=True, depth=True)\n",
    "\n",
    "# Registration\n",
    "#registration = Registration(device.getIrCameraParams(),\n",
    "#                            device.getColorCameraParams())\n",
    "#undistorted = Frame(512, 424, 4)\n",
    "#registered = Frame(512, 424, 4)\n",
    "\n",
    "# optional parameters for registration\n",
    "#bigdepth = Frame(1920, 1082, 4)\n",
    "#color_depth_map = np.zeros((424, 512), np.int32)\n",
    "\n",
    "# test if we can get two frames at least\n",
    "#frames = listener.waitForNewFrame()\n",
    "#listener.release(frames)\n",
    "\n",
    "# frames as a first argment also should work\n",
    "frames = FrameMap()\n",
    "listener.waitForNewFrame(frames)\n",
    "\n",
    "color = frames[FrameType.Color]\n",
    "ir = frames[FrameType.Ir]\n",
    "depth = frames[FrameType.Depth]\n",
    "\n",
    "assert color.width == 1920\n",
    "assert color.height == 1080\n",
    "assert color.bytes_per_pixel == 4\n",
    "\n",
    "assert ir.width == 512\n",
    "assert ir.height == 424\n",
    "assert ir.bytes_per_pixel == 4\n",
    "\n",
    "assert depth.width == 512\n",
    "assert depth.height == 424\n",
    "assert depth.bytes_per_pixel == 4\n",
    "\n",
    "listener.release(frames)"
   ]
  },
  {
   "cell_type": "code",
   "execution_count": null,
   "metadata": {},
   "outputs": [],
   "source": [
    "# frames as a first argment also should work\n",
    "frames = FrameMap()\n",
    "listener.waitForNewFrame(frames)\n",
    "\n",
    "#color = frames[FrameType.Color]\n",
    "#ir = frames[FrameType.Ir]\n",
    "depth = frames[FrameType.Depth]\n",
    "\n",
    "#plt.imshow(color.asarray())\n",
    "#plt.show()\n",
    "#plt.imshow(ir.asarray())\n",
    "#plt.show()\n",
    "plt.imshow(depth.asarray())\n",
    "plt.show()\n",
    "\n",
    "listener.release(frames)\n",
    "\n",
    "frames = FrameMap()\n",
    "listener.waitForNewFrame(frames)\n",
    "\n",
    "#color = frames[FrameType.Color]\n",
    "#ir = frames[FrameType.Ir]\n",
    "depth = frames[FrameType.Depth]\n",
    "\n",
    "#plt.imshow(color.asarray())\n",
    "#plt.show()\n",
    "#plt.imshow(ir.asarray())\n",
    "#plt.show()\n",
    "plt.imshow(depth.asarray())\n",
    "plt.show()\n",
    "\n",
    "listener.release(frames)"
   ]
  },
  {
   "cell_type": "code",
   "execution_count": null,
   "metadata": {},
   "outputs": [],
   "source": [
    "color.bytes_per_pixel\n",
    "\n",
    "\n"
   ]
  },
  {
   "cell_type": "code",
   "execution_count": null,
   "metadata": {},
   "outputs": [],
   "source": [
    "device.startStreams(rgb=True, depth=True)"
   ]
  },
  {
   "cell_type": "code",
   "execution_count": null,
   "metadata": {},
   "outputs": [],
   "source": [
    "device."
   ]
  },
  {
   "cell_type": "code",
   "execution_count": null,
   "metadata": {},
   "outputs": [],
   "source": [
    "frames = FrameMap()\n",
    "listener.waitForNewFrame(frames)\n"
   ]
  },
  {
   "cell_type": "code",
   "execution_count": null,
   "metadata": {},
   "outputs": [],
   "source": [
    "frames = FrameMap()\n",
    "listener.waitForNewFrame(frames, milliseconds=100)\n",
    "depth = frames['depth'].asarray()\n",
    "listener.release(frames)\n",
    "plt.imshow(depth)\n",
    "plt.show()"
   ]
  },
  {
   "cell_type": "code",
   "execution_count": null,
   "metadata": {},
   "outputs": [],
   "source": [
    "depth"
   ]
  },
  {
   "cell_type": "code",
   "execution_count": null,
   "metadata": {},
   "outputs": [],
   "source": [
    "listener.release(frames)"
   ]
  },
  {
   "cell_type": "code",
   "execution_count": null,
   "metadata": {},
   "outputs": [],
   "source": [
    "import numpy as np\n",
    "import cv2\n",
    "import sys\n",
    "from pylibfreenect2 import Freenect2, SyncMultiFrameListener\n",
    "from pylibfreenect2 import FrameType, Registration, Frame\n",
    "from pylibfreenect2 import createConsoleLogger, setGlobalLogger\n",
    "from pylibfreenect2 import LoggerLevel\n",
    "\n",
    "try:\n",
    "    from pylibfreenect2 import OpenGLPacketPipeline\n",
    "    pipeline = OpenGLPacketPipeline()\n",
    "except:\n",
    "    try:\n",
    "        from pylibfreenect2 import OpenCLPacketPipeline\n",
    "        pipeline = OpenCLPacketPipeline()\n",
    "    except:\n",
    "        from pylibfreenect2 import CpuPacketPipeline\n",
    "        pipeline = CpuPacketPipeline()\n",
    "print(\"Packet pipeline:\", type(pipeline).__name__)\n",
    "\n",
    "# Create and set logger\n",
    "logger = createConsoleLogger(LoggerLevel.Debug)\n",
    "setGlobalLogger(logger)\n",
    "\n",
    "fn = Freenect2()\n",
    "num_devices = fn.enumerateDevices()\n",
    "if num_devices == 0:\n",
    "    print(\"No device connected!\")\n",
    "    sys.exit(1)\n",
    "\n",
    "serial = fn.getDeviceSerialNumber(0)\n",
    "device = fn.openDevice(serial, pipeline=pipeline)\n",
    "\n",
    "listener = SyncMultiFrameListener(\n",
    "    FrameType.Color | FrameType.Ir | FrameType.Depth)\n",
    "\n",
    "# Register listeners\n",
    "device.setColorFrameListener(listener)\n",
    "device.setIrAndDepthFrameListener(listener)\n",
    "\n",
    "device.start()\n",
    "\n",
    "# NOTE: must be called after device.start()\n",
    "registration = Registration(device.getIrCameraParams(),\n",
    "                            device.getColorCameraParams())\n",
    "\n",
    "undistorted = Frame(512, 424, 4)\n",
    "registered = Frame(512, 424, 4)\n",
    "\n",
    "# Optinal parameters for registration\n",
    "# set True if you need\n",
    "need_bigdepth = False\n",
    "need_color_depth_map = False\n",
    "\n",
    "bigdepth = Frame(1920, 1082, 4) if need_bigdepth else None\n",
    "color_depth_map = np.zeros((424, 512),  np.int32).ravel() \\\n",
    "    if need_color_depth_map else None\n",
    "\n",
    "while True:\n",
    "    frames = listener.waitForNewFrame()\n",
    "\n",
    "    color = frames[\"color\"]\n",
    "    ir = frames[\"ir\"]\n",
    "    depth = frames[\"depth\"]\n",
    "\n",
    "    registration.apply(color, depth, undistorted, registered,\n",
    "                       bigdepth=bigdepth,\n",
    "                       color_depth_map=color_depth_map)\n",
    "\n",
    "    # NOTE for visualization:\n",
    "    # cv2.imshow without OpenGL backend seems to be quite slow to draw all\n",
    "    # things below. Try commenting out some imshow if you don't have a fast\n",
    "    # visualization backend.\n",
    "    cv2.imshow(\"ir\", ir.asarray() / 65535.)\n",
    "    cv2.imshow(\"depth\", depth.asarray() / 4500.)\n",
    "    cv2.imshow(\"color\", cv2.resize(color.asarray(),\n",
    "                                   (int(1920 / 3), int(1080 / 3))))\n",
    "    cv2.imshow(\"registered\", registered.asarray(np.uint8))\n",
    "\n",
    "    if need_bigdepth:\n",
    "        cv2.imshow(\"bigdepth\", cv2.resize(bigdepth.asarray(np.float32),\n",
    "                                          (int(1920 / 3), int(1082 / 3))))\n",
    "    if need_color_depth_map:\n",
    "        cv2.imshow(\"color_depth_map\", color_depth_map.reshape(424, 512))\n",
    "\n",
    "    listener.release(frames)\n",
    "\n",
    "    key = cv2.waitKey(delay=1)\n",
    "    if key == ord('q'):\n",
    "        break\n",
    "\n",
    "device.stop()\n",
    "device.close()\n",
    "\n",
    "sys.exit(0)"
   ]
  },
  {
   "cell_type": "code",
   "execution_count": null,
   "metadata": {},
   "outputs": [],
   "source": [
    "# An example using startStreams\n",
    "import numpy as np\n",
    "from pylibfreenect2 import Freenect2, SyncMultiFrameListener\n",
    "from pylibfreenect2 import FrameType, Registration, Frame\n",
    "\n",
    "try:\n",
    "    from pylibfreenect2 import OpenGLPacketPipeline\n",
    "    pipeline = OpenGLPacketPipeline()\n",
    "except:\n",
    "    try:\n",
    "        from pylibfreenect2 import OpenCLPacketPipeline\n",
    "        pipeline = OpenCLPacketPipeline()\n",
    "    except:\n",
    "        from pylibfreenect2 import CpuPacketPipeline\n",
    "        pipeline = CpuPacketPipeline()\n",
    "print(\"Packet pipeline:\", type(pipeline).__name__)\n",
    "\n",
    "#enable_rgb = False\n",
    "#enable_depth = True\n",
    "\n",
    "fn = Freenect2()\n",
    "num_devices = fn.enumerateDevices()\n",
    "assert num_devices > 0\n",
    "\n",
    "serial = fn.getDeviceSerialNumber(0)\n",
    "device = fn.openDevice(serial, pipeline=pipeline)\n",
    "\n",
    "listener = SyncMultiFrameListener(\n",
    "    FrameType.Color | FrameType.Ir | FrameType.Depth)\n",
    "\n",
    "# Register listeners\n",
    "device.setColorFrameListener(listener)\n",
    "device.setIrAndDepthFrameListener(listener)\n",
    "\n",
    "device.start()\n",
    "\n",
    "registration = Registration(device.getIrCameraParams(), device.getColorCameraParams())\n",
    "\n",
    "undistorted = Frame(512, 424, 4)\n",
    "registered = Frame(512, 424, 4)\n",
    "\n",
    "def _frames(typ=\"all\"):\n",
    "    frames = listener.waitForNewFrame(milliseconds=1000)\n",
    "    if frames:\n",
    "        if typ=='depth':\n",
    "            depth = frames[FrameType.Depth]\n",
    "            listener.release(frames)\n",
    "            return depth.asarray()\n",
    "        elif typ=='ir':\n",
    "            ir = frames[FrameType.Ir]\n",
    "            listener.release(frames)\n",
    "            return ir.asarray()\n",
    "        if typ=='color':\n",
    "            color = frames[FrameType.Color]\n",
    "            listener.release(frames)\n",
    "            return color.asarray()\n",
    "        if typ=='all':\n",
    "            color = frames[FrameType.Color]\n",
    "            ir = frames[FrameType.Ir]\n",
    "            depth = frames[FrameType.Depth]\n",
    "            registration.apply(color, depth, undistorted, registered)\n",
    "            registration.undistortDepth(depth, undistorted)\n",
    "            listener.release(frames)\n",
    "            return depth.asarray(), color.asarray(), ir.asarray()\n",
    "    \n",
    "    #ir = frames[FrameType.Ir]\n",
    "    #depth = frames[FrameType.Depth]\n",
    "\n",
    "    #registration.apply(color, depth, undistorted, registered)\n",
    "    #registration.undistortDepth(depth, undistorted)\n",
    "\n",
    "    #assert color.width == 1920\n",
    "    #assert color.height == 1080\n",
    "    #assert color.bytes_per_pixel == 4\n",
    "\n",
    "    #assert ir.width == 512\n",
    "    #assert ir.height == 424\n",
    "    #assert ir.bytes_per_pixel == 4\n",
    "\n",
    "    #assert depth.width == 512\n",
    "    #assert depth.height == 424\n",
    "    #assert depth.bytes_per_pixel == 4\n",
    "\n",
    "        listener.release(frames)\n",
    "    else:\n",
    "        raise FileNotFoundError"
   ]
  },
  {
   "cell_type": "code",
   "execution_count": null,
   "metadata": {},
   "outputs": [],
   "source": [
    "print(_frames(typ='depth').shape)\n",
    "print(_frames(typ='ir').shape)\n",
    "print(_frames(typ='color').shape)"
   ]
  },
  {
   "cell_type": "code",
   "execution_count": null,
   "metadata": {},
   "outputs": [],
   "source": [
    "import matplotlib.pyplot as plt\n",
    "from sandbox.sensor.kinectV2 import KinectV2\n"
   ]
  },
  {
   "cell_type": "code",
   "execution_count": null,
   "metadata": {},
   "outputs": [],
   "source": [
    "kinect = KinectV2()"
   ]
  },
  {
   "cell_type": "code",
   "execution_count": null,
   "metadata": {},
   "outputs": [],
   "source": [
    "kinect.get_linux_frame(typ=\"depth\")"
   ]
  },
  {
   "cell_type": "code",
   "execution_count": null,
   "metadata": {},
   "outputs": [],
   "source": []
  },
  {
   "cell_type": "code",
   "execution_count": null,
   "metadata": {},
   "outputs": [],
   "source": [
    "kinect.device.start()"
   ]
  },
  {
   "cell_type": "code",
   "execution_count": null,
   "metadata": {},
   "outputs": [],
   "source": [
    "kinect.listener.hasNewFrame()"
   ]
  },
  {
   "cell_type": "code",
   "execution_count": null,
   "metadata": {},
   "outputs": [],
   "source": [
    "kinect.device.stop()"
   ]
  },
  {
   "cell_type": "code",
   "execution_count": null,
   "metadata": {},
   "outputs": [],
   "source": [
    "kinect.listener.release(frames)\n"
   ]
  },
  {
   "cell_type": "code",
   "execution_count": null,
   "metadata": {},
   "outputs": [],
   "source": []
  }
 ],
 "metadata": {
  "kernelspec": {
   "display_name": "Python 3",
   "language": "python",
   "name": "python3"
  },
  "language_info": {
   "codemirror_mode": {
    "name": "ipython",
    "version": 3
   },
   "file_extension": ".py",
   "mimetype": "text/x-python",
   "name": "python",
   "nbconvert_exporter": "python",
   "pygments_lexer": "ipython3",
   "version": "3.7.7"
  }
 },
 "nbformat": 4,
 "nbformat_minor": 2
}
