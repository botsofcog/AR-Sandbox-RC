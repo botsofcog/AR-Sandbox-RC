{
 "cells": [
  {
   "cell_type": "code",
   "execution_count": null,
   "metadata": {},
   "outputs": [],
   "source": [
    "#Only use if sandbox is not installed\n",
    "import os,sys\n",
    "sys.path.append('../../../')\n",
    "#import warnings\n",
    "#warnings.filterwarnings(\"ignore\")"
   ]
  },
  {
   "cell_type": "markdown",
   "metadata": {},
   "source": [
    "## Initialize Sensor and Projector"
   ]
  },
  {
   "cell_type": "code",
   "execution_count": null,
   "metadata": {},
   "outputs": [],
   "source": [
    "#save the paths to the calibration files \n",
    "from sandbox import _calibration_dir\n",
    "_calibprojector = _calibration_dir + \"my_projector_calibration.json\"\n",
    "_calibsensor = _calibration_dir + \"my_sensor_calibration.json\""
   ]
  },
  {
   "cell_type": "code",
   "execution_count": null,
   "metadata": {},
   "outputs": [],
   "source": [
    "#Import Sensor\n",
    "from sandbox.sensor import Sensor\n",
    "sensor = Sensor(calibsensor=_calibsensor, name=\"dummy\",\n",
    "               gauss_filter = False)"
   ]
  },
  {
   "cell_type": "code",
   "execution_count": null,
   "metadata": {},
   "outputs": [],
   "source": [
    "# Import projector\n",
    "from sandbox.projector import Projector\n",
    "projector = Projector(calibprojector=_calibprojector)\n"
   ]
  },
  {
   "cell_type": "markdown",
   "metadata": {},
   "source": [
    "## Initialize marker detection"
   ]
  },
  {
   "cell_type": "code",
   "execution_count": null,
   "metadata": {},
   "outputs": [],
   "source": [
    "#Initialize the aruco detection\n",
    "from sandbox.markers import MarkerDetection\n",
    "aruco = MarkerDetection(sensor=sensor)"
   ]
  },
  {
   "cell_type": "markdown",
   "metadata": {},
   "source": [
    "## Initialize main thread for live update"
   ]
  },
  {
   "cell_type": "code",
   "execution_count": null,
   "metadata": {},
   "outputs": [],
   "source": [
    "from sandbox.main_thread import MainThread\n",
    "main = MainThread(sensor=sensor, projector=projector, aruco=aruco)\n"
   ]
  },
  {
   "cell_type": "code",
   "execution_count": null,
   "metadata": {},
   "outputs": [],
   "source": [
    "# Start the thread \n",
    "main.run()"
   ]
  },
  {
   "cell_type": "markdown",
   "metadata": {},
   "source": [
    "### Control the features of the main thread"
   ]
  },
  {
   "cell_type": "code",
   "execution_count": null,
   "metadata": {},
   "outputs": [],
   "source": [
    "main.widget_plot_module()"
   ]
  },
  {
   "cell_type": "markdown",
   "metadata": {},
   "source": [
    "## Import the desired module"
   ]
  },
  {
   "cell_type": "code",
   "execution_count": null,
   "metadata": {},
   "outputs": [],
   "source": [
    "# Import the modules to use and initialize them\n",
    "from sandbox.modules.gimli import GeoelectricsModule"
   ]
  },
  {
   "cell_type": "code",
   "execution_count": null,
   "metadata": {},
   "outputs": [],
   "source": [
    "geoelec = GeoelectricsModule()"
   ]
  },
  {
   "cell_type": "markdown",
   "metadata": {},
   "source": [
    "## Add the module to the main thread"
   ]
  },
  {
   "cell_type": "code",
   "execution_count": null,
   "metadata": {},
   "outputs": [],
   "source": [
    "main.add_module(name ='GeoelectricModule', module=geoelec)"
   ]
  },
  {
   "cell_type": "code",
   "execution_count": null,
   "metadata": {},
   "outputs": [],
   "source": [
    "main.run()"
   ]
  },
  {
   "cell_type": "markdown",
   "metadata": {},
   "source": [
    "## Steps to run the simulation"
   ]
  },
  {
   "cell_type": "code",
   "execution_count": null,
   "metadata": {},
   "outputs": [],
   "source": [
    "main.stop()"
   ]
  },
  {
   "cell_type": "markdown",
   "metadata": {},
   "source": [
    "### 1) create a mesh from the sandbox topography "
   ]
  },
  {
   "cell_type": "code",
   "execution_count": null,
   "metadata": {},
   "outputs": [],
   "source": [
    "#Get current frame\n",
    "frame = sensor.get_frame()\n",
    "extent = sensor.extent"
   ]
  },
  {
   "cell_type": "code",
   "execution_count": null,
   "metadata": {},
   "outputs": [],
   "source": [
    "# Normalize the frame and get some real resistivity values \n",
    "frame2, extent2 = geoelec.scale_linear(frame, extent, vmin=5, vmax=1e5)\n",
    "step = 7.5 # This is to generate a coarser mesh, for faster runtime simulation\n",
    "mesh, data = geoelec.create_mesh(frame2, step)\n",
    "print(mesh)"
   ]
  },
  {
   "cell_type": "code",
   "execution_count": null,
   "metadata": {},
   "outputs": [],
   "source": [
    "# We can visualize the original fine mesh and the coarser mesh that will be\n",
    "# used in the simulations, and a small comparison between both resolutions\n",
    "fig = geoelec.show_mesh()"
   ]
  },
  {
   "cell_type": "markdown",
   "metadata": {},
   "source": [
    "### 2) Position the 4 arucos and assign the id to the type of electrode"
   ]
  },
  {
   "cell_type": "markdown",
   "metadata": {},
   "source": [
    "If no arucos available, you can manually set some dummy arucos in the model by doing:"
   ]
  },
  {
   "cell_type": "code",
   "execution_count": null,
   "metadata": {},
   "outputs": [],
   "source": [
    "aruco.set_aruco_position(dict_position={}) #be sure the dict is empty\n",
    "# {id:[x_coordinate, y_coordinate]}\n",
    "dict_position = {3: [50, 100],\n",
    "                 2: [100, 100],\n",
    "                 5: [150, 100],\n",
    "                 6: [200, 100]}\n",
    "aruco.set_aruco_position(dict_position=dict_position, frame=sensor.get_frame())\n",
    "aruco.update()\n",
    "#Run cell again if arucos are still not visible\n",
    "main.run()\n",
    "main.stop()"
   ]
  },
  {
   "cell_type": "code",
   "execution_count": null,
   "metadata": {},
   "outputs": [],
   "source": [
    "# The id of the aruco will appear next to the place it is detected, or as a list doing:\n",
    "df = geoelec.df_markers\n",
    "assert len(df)==4\n",
    "df\n",
    "# The id is the index of the dataframe"
   ]
  },
  {
   "cell_type": "code",
   "execution_count": null,
   "metadata": {},
   "outputs": [],
   "source": [
    "# 0 : electrode a\n",
    "# 1 : electrode b\n",
    "# 2 : electrode m\n",
    "# 3 : electrode n\n",
    "#Assign the aruco id to the electrode id\n",
    "geoelec.set_id_aruco({3: 0,\n",
    "                      6: 1,\n",
    "                      2: 2,\n",
    "                      5: 3})\n",
    "assert geoelec.id is not None\n",
    "geoelec.id"
   ]
  },
  {
   "cell_type": "code",
   "execution_count": null,
   "metadata": {},
   "outputs": [],
   "source": [
    "geoelec.set_aruco_electrodes(df)\n",
    "assert geoelec.electrode is not None\n",
    "geoelec.electrode\n",
    "# Remember, this will be the positions for the electrodes\n",
    "# row 0 : electrode a\n",
    "# row 1 : electrode b\n",
    "# row 2 : electrode m\n",
    "# row 3 : electrode n"
   ]
  },
  {
   "cell_type": "markdown",
   "metadata": {},
   "source": [
    "### 3) create data container ERT"
   ]
  },
  {
   "cell_type": "code",
   "execution_count": null,
   "metadata": {},
   "outputs": [],
   "source": [
    "# This will describe the type of measurement performed and create the geometric factors\n",
    "import numpy as np\n",
    "measurements = np.array([[0, 1, 2, 3],])\n",
    "scheme_type = \"abmn\"  #Dipole-Dipole\n",
    "    \n",
    "scheme = geoelec.create_data_containerERT(measurements, scheme_type)\n",
    "print(scheme)"
   ]
  },
  {
   "cell_type": "markdown",
   "metadata": {},
   "source": [
    "### 4) calculate current flow based on the aruco positions"
   ]
  },
  {
   "cell_type": "code",
   "execution_count": null,
   "metadata": {},
   "outputs": [],
   "source": [
    "sim, pot = geoelec.calculate_current_flow(time=True)"
   ]
  },
  {
   "cell_type": "code",
   "execution_count": null,
   "metadata": {},
   "outputs": [],
   "source": [
    "fig = geoelec.show_streams(quiver=False)"
   ]
  },
  {
   "cell_type": "markdown",
   "metadata": {},
   "source": [
    "### 5) perform a sensitivity analysis"
   ]
  },
  {
   "cell_type": "code",
   "execution_count": null,
   "metadata": {},
   "outputs": [],
   "source": [
    "geoelec.calculate_sensitivity(time=True)"
   ]
  },
  {
   "cell_type": "code",
   "execution_count": null,
   "metadata": {},
   "outputs": [],
   "source": [
    "fig = geoelec.show_sensitivity()"
   ]
  },
  {
   "cell_type": "markdown",
   "metadata": {},
   "source": [
    "### To display the results in the thread of the sandbox use:"
   ]
  },
  {
   "cell_type": "code",
   "execution_count": null,
   "metadata": {
    "scrolled": true
   },
   "outputs": [],
   "source": [
    "main.run()"
   ]
  },
  {
   "cell_type": "code",
   "execution_count": null,
   "metadata": {
    "scrolled": true
   },
   "outputs": [],
   "source": [
    "geoelec.p_stream = True  # plot the stream lines\n",
    "geoelec.view = \"potential\"  # to show the geoelectric field"
   ]
  },
  {
   "cell_type": "code",
   "execution_count": null,
   "metadata": {
    "scrolled": true
   },
   "outputs": [],
   "source": [
    "geoelec.p_stream = True  # plot the stream lines\n",
    "geoelec.view = \"sensitivity\"  # to show the sensitivity analysis"
   ]
  },
  {
   "cell_type": "code",
   "execution_count": null,
   "metadata": {},
   "outputs": [],
   "source": [
    "geoelec.p_stream = False  # plot the stream lines\n",
    "geoelec.p_quiver = True  # plot the vector field of the geoelectric field\n",
    "geoelec.view = \"mesh\"  # to show the geoelectric field"
   ]
  },
  {
   "cell_type": "code",
   "execution_count": null,
   "metadata": {},
   "outputs": [],
   "source": [
    "# or is also possible to use the widgets"
   ]
  },
  {
   "cell_type": "code",
   "execution_count": null,
   "metadata": {},
   "outputs": [],
   "source": [
    "geoelec.widgets_controller()"
   ]
  },
  {
   "cell_type": "code",
   "execution_count": null,
   "metadata": {},
   "outputs": [],
   "source": [
    "main.stop()"
   ]
  },
  {
   "cell_type": "markdown",
   "metadata": {},
   "source": [
    "## All the previous can be summarized using the widgets"
   ]
  },
  {
   "cell_type": "code",
   "execution_count": null,
   "metadata": {},
   "outputs": [],
   "source": [
    "main.run()\n"
   ]
  },
  {
   "cell_type": "code",
   "execution_count": null,
   "metadata": {},
   "outputs": [],
   "source": [
    "aruco.set_aruco_position(dict_position={}) #be sure the dict is empty\n",
    "# {id:[x_coordinate, y_coordinate]}\n",
    "dict_position = {0: [50, 150],\n",
    "                 1: [100, 100],\n",
    "                 2: [150, 100],\n",
    "                 3: [200, 100]}\n",
    "aruco.set_aruco_position(dict_position=dict_position, frame=sensor.get_frame())\n",
    "aruco.update()"
   ]
  },
  {
   "cell_type": "code",
   "execution_count": null,
   "metadata": {},
   "outputs": [],
   "source": [
    "geoelec.show_widgets()"
   ]
  },
  {
   "cell_type": "markdown",
   "metadata": {},
   "source": [
    "Note: You can use the same procedure in real time. This will work as long as the 4 arucos are detected. If you want to stop the simulation just remove or hide one of the arucos"
   ]
  },
  {
   "cell_type": "code",
   "execution_count": null,
   "metadata": {},
   "outputs": [],
   "source": [
    "# stop thread of sandbox\n",
    "\n",
    "\n",
    "\n",
    "\n",
    "\n",
    "main.stop()Skip to left side bar\n",
    ">\n",
    "/\n",
    "/tutorials/11_GeoelectricsModule/\n",
    "Name\n",
    "Last Modified\n",
    "\n",
    "#Only use if sandbox is not installed\n",
    "\n",
    "import os,sys\n",
    "\n",
    "sys.path.append('../../../')\n",
    "\n",
    "#import warnings\n",
    "\n",
    "#warnings.filterwarnings(\"ignore\")\n",
    "\n",
    "Initialize Sensor and Projector\n",
    "\n",
    "#save the paths to the calibration files \n",
    "\n",
    "from sandbox import _calibration_dir\n",
    "\n",
    "_calibprojector = _calibration_dir + \"my_projector_calibration.json\"\n",
    "\n",
    "_calibsensor = _calibration_dir + \"my_sensor_calibration.json\"\n",
    "\n",
    "#Import Sensor\n",
    "\n",
    "from sandbox.sensor import Sensor\n",
    "\n",
    "sensor = Sensor(calibsensor=_calibsensor, name=\"dummy\",\n",
    "\n",
    "               gauss_filter = False)\n",
    "\n",
    "# Import projector\n",
    "\n",
    "from sandbox.projector import Projector\n",
    "\n",
    "projector = Projector(calibprojector=_calibprojector)\n",
    "\n",
    "​\n",
    "\n",
    "Initialize marker detection\n",
    "\n",
    "#Initialize the aruco detection\n",
    "\n",
    "from sandbox.markers import MarkerDetection\n",
    "\n",
    "aruco = MarkerDetection(sensor=sensor)\n",
    "\n",
    "Initialize main thread for live update\n",
    "\n",
    "from sandbox.main_thread import MainThread\n",
    "\n",
    "main = MainThread(sensor=sensor, projector=projector, aruco=aruco)\n",
    "\n",
    "​\n",
    "\n",
    "# Start the thread \n",
    "\n",
    "main.run()\n",
    "\n",
    "Control the features of the main thread\n",
    "\n",
    "main.widget_plot_module()\n",
    "\n",
    "Import the desired module\n",
    "\n",
    "# Import the modules to use and initialize them\n",
    "\n",
    "from sandbox.modules.gimli import GeoelectricsModule\n",
    "\n",
    "geoelec = GeoelectricsModule()\n",
    "\n",
    "Add the module to the main thread\n",
    "\n",
    "main.add_module(name ='GeoelectricModule', module=geoelec)\n",
    "\n",
    "main.run()\n",
    "\n",
    "Steps to run the simulation\n",
    "\n",
    "main.stop()\n",
    "\n",
    "1) create a mesh from the sandbox topography\n",
    "\n",
    "#Get current frame\n",
    "\n",
    "frame = sensor.get_frame()\n",
    "\n",
    "extent = sensor.extent\n",
    "\n",
    "# Normalize the frame and get some real resistivity values \n",
    "\n",
    "frame2, extent2 = geoelec.scale_linear(frame, extent, vmin=5, vmax=1e5)\n",
    "\n",
    "step = 7.5 # This is to generate a coarser mesh, for faster runtime simulation\n",
    "\n",
    "mesh, data = geoelec.create_mesh(frame2, step)\n",
    "\n",
    "print(mesh)\n",
    "\n",
    "# We can visualize the original fine mesh and the coarser mesh that will be\n",
    "\n",
    "# used in the simulations, and a small comparison between both resolutions\n",
    "\n",
    "fig = geoelec.show_mesh()\n",
    "\n",
    "2) Position the 4 arucos and assign the id to the type of electrode\n",
    "\n",
    "If no arucos available, you can manually set some dummy arucos in the model by doing:\n",
    "\n",
    "aruco.set_aruco_position(dict_position={}) #be sure the dict is empty\n",
    "\n",
    "# {id:[x_coordinate, y_coordinate]}\n",
    "\n",
    "dict_position = {3: [50, 100],\n",
    "\n",
    "                 2: [100, 100],\n",
    "\n",
    "                 5: [150, 100],\n",
    "\n",
    "                 6: [200, 100]}\n",
    "\n",
    "aruco.set_aruco_position(dict_position=dict_position, frame=sensor.get_frame())\n",
    "\n",
    "aruco.update()\n",
    "\n",
    "#Run cell again if arucos are still not visible\n",
    "\n",
    "main.run()\n",
    "\n",
    "main.stop()\n",
    "\n",
    "# The id of the aruco will appear next to the place it is detected, or as a list doing:\n",
    "\n",
    "df = geoelec.df_markers\n",
    "\n",
    "assert len(df)==4\n",
    "\n",
    "df\n",
    "\n",
    "# The id is the index of the dataframe\n",
    "\n",
    "# 0 : electrode a\n",
    "\n",
    "# 1 : electrode b\n",
    "\n",
    "# 2 : electrode m\n",
    "\n",
    "# 3 : electrode n\n",
    "\n",
    "#Assign the aruco id to the electrode id\n",
    "\n",
    "geoelec.set_id_aruco({3: 0,\n",
    "\n",
    "                      6: 1,\n",
    "\n",
    "                      2: 2,\n",
    "\n",
    "                      5: 3})\n",
    "\n",
    "assert geoelec.id is not None\n",
    "\n",
    "geoelec.id\n",
    "\n",
    "geoelec.set_aruco_electrodes(df)\n",
    "\n",
    "assert geoelec.electrode is not None\n",
    "\n",
    "geoelec.electrode\n",
    "\n",
    "# Remember, this will be the positions for the electrodes\n",
    "\n",
    "# row 0 : electrode a\n",
    "\n",
    "# row 1 : electrode b\n",
    "\n",
    "# row 2 : electrode m\n",
    "\n",
    "# row 3 : electrode n\n",
    "\n",
    "3) create data container ERT\n",
    "\n",
    "# This will describe the type of measurement performed and create the geometric factors\n",
    "\n",
    "import numpy as np\n",
    "\n",
    "measurements = np.array([[0, 1, 2, 3],])\n",
    "\n",
    "scheme_type = \"abmn\"  #Dipole-Dipole\n",
    "\n",
    "    \n",
    "\n",
    "scheme = geoelec.create_data_containerERT(measurements, scheme_type)\n",
    "\n",
    "print(scheme)\n",
    "\n",
    "4) calculate current flow based on the aruco positions\n",
    "\n",
    "sim, pot = geoelec.calculate_current_flow(time=True)\n",
    "\n",
    "fig = geoelec.show_streams(quiver=False)\n",
    "\n",
    "5) perform a sensitivity analysis\n",
    "\n",
    "geoelec.calculate_sensitivity(time=True)\n",
    "\n",
    "fig = geoelec.show_sensitivity()\n",
    "\n",
    "To display the results in the thread of the sandbox use:\n",
    "\n",
    "main.run()\n",
    "\n",
    "geoelec.p_stream = True  # plot the stream lines\n",
    "\n",
    "geoelec.view = \"potential\"  # to show the geoelectric field\n",
    "\n",
    "geoelec.p_stream = True  # plot the stream lines\n",
    "\n",
    "geoelec.view = \"sensitivity\"  # to show the sensitivity analysis\n",
    "\n",
    "geoelec.p_stream = False  # plot the stream lines\n",
    "\n",
    "geoelec.p_quiver = True  # plot the vector field of the geoelectric field\n",
    "\n",
    "geoelec.view = \"mesh\"  # to show the geoelectric field\n",
    "\n",
    "# or is also possible to use the widgets\n",
    "\n",
    "geoelec.widgets_controller()\n",
    "\n",
    "main.stop()\n",
    "\n",
    "All the previous can be summarized using the widgets\n",
    "\n",
    "main.run()\n",
    "\n",
    "​\n",
    "\n",
    "aruco.set_aruco_position(dict_position={}) #be sure the dict is empty\n",
    "\n",
    "# {id:[x_coordinate, y_coordinate]}\n",
    "\n",
    "dict_position = {0: [50, 150],\n",
    "\n",
    "                 1: [100, 100],\n",
    "\n",
    "                 2: [150, 100],\n",
    "\n",
    "                 3: [200, 100]}\n",
    "\n",
    "aruco.set_aruco_position(dict_position=dict_position, frame=sensor.get_frame())\n",
    "\n",
    "aruco.update()\n",
    "\n",
    "geoelec.show_widgets()\n",
    "\n",
    "Note: You can use the same procedure in real time. This will work as long as the 4 arucos are detected. If you want to stop the simulation just remove or hide one of the arucos\n",
    "\n",
    "# stop thread of sandbox\n",
    "\n",
    "​\n",
    "\n",
    "​\n",
    "\n",
    "​\n",
    "\n",
    "​\n",
    "\n",
    "​\n",
    "\n",
    "main.stop()\n",
    "\n"
   ]
  }
 ],
 "metadata": {
  "kernelspec": {
   "display_name": "Python 3 (ipykernel)",
   "language": "python",
   "name": "python3"
  },
  "language_info": {
   "codemirror_mode": {
    "name": "ipython",
    "version": 3
   },
   "file_extension": ".py",
   "mimetype": "text/x-python",
   "name": "python",
   "nbconvert_exporter": "python",
   "pygments_lexer": "ipython3",
   "version": "3.9.7"
  }
 },
 "nbformat": 4,
 "nbformat_minor": 4
}
